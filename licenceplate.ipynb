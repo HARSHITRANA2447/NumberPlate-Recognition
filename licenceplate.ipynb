{
 "cells": [
  {
   "cell_type": "code",
   "execution_count": 29,
   "id": "77e49bf9-9919-4374-be9b-2a794ac24fe9",
   "metadata": {},
   "outputs": [],
   "source": [
    "import cv2\n",
    "import os\n",
    "import pandas as pd\n",
    "import numpy as np"
   ]
  },
  {
   "cell_type": "code",
   "execution_count": 38,
   "id": "462667ec-2951-46a0-b4c8-f3a35b7f29bc",
   "metadata": {},
   "outputs": [],
   "source": [
    "def extractcharacters(plateimage):\n",
    "    gray = cv2.cvtColor(plate_image, cv2.COLOR_BGR2GRAY)\n",
    "    _, binary = cv2.threshold(gray, 100, 255, cv2.THRESH_BINARY_INV)\n",
    "    contours, _ = cv2.findContours(binary, cv2.RETR_EXTERNAL, cv2.CHAIN_APPROX_SIMPLE)\n",
    "    characters = []\n",
    "    for contour in contours:\n",
    "        x, y, w, h = cv2.boundingRect(contour)\n",
    "        if 10 < w < 100 and 30 < h < 200:\n",
    "            char = binary[y:y+h, x:x+w]\n",
    "            char = cv2.resize(char, (20, 40))  \n",
    "            characters.append((x, char))\n",
    "    \n",
    "    characters = sorted(characters, key=lambda item: item[0])\n",
    "    return [char for _, char in characters]"
   ]
  },
  {
   "cell_type": "code",
   "execution_count": 40,
   "id": "9b6ab849-93de-4d07-b763-6d61a5e86a93",
   "metadata": {},
   "outputs": [],
   "source": [
    "def recognizecharacters(characters):\n",
    "    templates = {\n",
    "        '0': np.zeros((40, 20)),\n",
    "        '1': np.zeros((40, 20)),\n",
    "    }\n",
    "    recognized = \"\"\n",
    "    for char in characters:\n",
    "        best_match, min_diff = None, float('inf')\n",
    "        for label, template in templates.items():\n",
    "            diff = np.sum(np.abs(template - char))\n",
    "            if diff < min_diff:\n",
    "                min_diff = diff\n",
    "                best_match = label\n",
    "        recognized += best_match or \"?\"\n",
    "    return recognized\n"
   ]
  },
  {
   "cell_type": "code",
   "execution_count": 41,
   "id": "fb53d1c4-d5cf-4eb6-86a1-18cc628889f8",
   "metadata": {},
   "outputs": [],
   "source": [
    "def processimages(folderpath, coordinatefile, numberfile):\n",
    "    cascadepath = cv2.data.haarcascades + \"haarcascade_plate_number.xml\"\n",
    "    classifier = cv2.CascadeClassifier(cascadepath)\n",
    "    \n",
    "    if not os.path.exists(cascadepath):\n",
    "        print(f\"Classifier file not found at {cascadepath}\")\n",
    "        return\n",
    "\n",
    "    coordinatedata = []\n",
    "    numberdata = []\n",
    "    \n",
    "    for filename in os.listdir(folderpath):\n",
    "        if filename.lower().endswith(('.png', '.jpg', '.jpeg')):\n",
    "            imagepath = os.path.join(folderpath, filename)\n",
    "            plates, image = detect_number_plate(imagepath, classifier)\n",
    "            \n",
    "            for plate in plates:\n",
    "                Xmin, Xmax, Ymin, Ymax = plate\n",
    "                plateimage = image[Ymin:Ymax, Xmin:Xmax]\n",
    "                characters = extract_characters(plate_image)\n",
    "                platenumber = recognize_characters(characters)\n",
    "                coordinate_data.append({\n",
    "                    \"Image\": filename,\n",
    "                    \"Xmin\": Xmin, \"Xmax\": Xmax,\n",
    "                    \"Ymin\": Ymin, \"Ymax\": Ymax\n",
    "                })\n",
    "                \n",
    "                number_data.append({\n",
    "                    \"Image\": filename,\n",
    "                    \"Plate Number\": plate_number\n",
    "                })\n",
    "\n",
    "    coordinatedf = pd.DataFrame(coordinatedata)\n",
    "    coordinatedf.to_excel(coordinatefile, index=False)\n",
    "    print(f\"Coordinates saved to {coordinatefile}\")\n",
    "    \n",
    "    number_df = pd.DataFrame(number_data)\n",
    "    number_df.to_excel(number_file, index=False)\n",
    "    print(f\"Number plates saved to {numberfile}\")\n"
   ]
  },
  {
   "cell_type": "code",
   "execution_count": 42,
   "id": "805309ae-24eb-48ab-b319-92f8239e6e2b",
   "metadata": {},
   "outputs": [
    {
     "name": "stdout",
     "output_type": "stream",
     "text": [
      "Coordinates saved to C:\\Users\\harshit rana\\OneDrive\\Desktop\\numberplateproject\\CordinateOutput\\number_plate_coordinates.xlsx\n",
      "Number plates saved to C:\\Users\\harshit rana\\OneDrive\\Desktop\\numberplateproject\\numberplateoutput\\number_plate_numbers.xlsx\n"
     ]
    }
   ],
   "source": [
    "if __name__ == \"__main__\":\n",
    "    images_folder = r\"C:\\Users\\harshit rana\\OneDrive\\Desktop\\numberplateproject\\test\\test\"\n",
    "    coordinate_excel = r\"C:\\Users\\harshit rana\\OneDrive\\Desktop\\numberplateproject\\CordinateOutput\\number_plate_coordinates.xlsx\"\n",
    "    number_excel = r\"C:\\Users\\harshit rana\\OneDrive\\Desktop\\numberplateproject\\numberplateoutput\\number_plate_numbers.xlsx\"\n",
    "    \n",
    "    if not os.path.exists(images_folder):\n",
    "        print(f\"Folder not found: {images_folder}\")\n",
    "    else:\n",
    "        process_images(images_folder, coordinate_excel, number_excel)\n"
   ]
  },
  {
   "cell_type": "code",
   "execution_count": null,
   "id": "910260ec-9b67-48bb-8a75-14055246315c",
   "metadata": {},
   "outputs": [],
   "source": []
  }
 ],
 "metadata": {
  "kernelspec": {
   "display_name": "Python 3 (ipykernel)",
   "language": "python",
   "name": "python3"
  },
  "language_info": {
   "codemirror_mode": {
    "name": "ipython",
    "version": 3
   },
   "file_extension": ".py",
   "mimetype": "text/x-python",
   "name": "python",
   "nbconvert_exporter": "python",
   "pygments_lexer": "ipython3",
   "version": "3.12.4"
  }
 },
 "nbformat": 4,
 "nbformat_minor": 5
}
